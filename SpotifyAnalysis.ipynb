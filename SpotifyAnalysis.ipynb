{
  "nbformat": 4,
  "nbformat_minor": 0,
  "metadata": {
    "colab": {
      "provenance": [],
      "authorship_tag": "ABX9TyOwwCJzUufjogHAh1GiUOsQ",
      "include_colab_link": true
    },
    "kernelspec": {
      "name": "python3",
      "display_name": "Python 3"
    },
    "language_info": {
      "name": "python"
    }
  },
  "cells": [
    {
      "cell_type": "markdown",
      "metadata": {
        "id": "view-in-github",
        "colab_type": "text"
      },
      "source": [
        "<a href=\"https://colab.research.google.com/github/pooja-thalur/DataScienceProjects/blob/main/SpotifyAnalysis.ipynb\" target=\"_parent\"><img src=\"https://colab.research.google.com/assets/colab-badge.svg\" alt=\"Open In Colab\"/></a>"
      ]
    },
    {
      "cell_type": "code",
      "execution_count": 1,
      "metadata": {
        "colab": {
          "base_uri": "https://localhost:8080/"
        },
        "id": "QLH7odWPexfa",
        "outputId": "e9a99951-b8d6-45a0-9cdf-85a54e3f370e"
      },
      "outputs": [
        {
          "output_type": "stream",
          "name": "stdout",
          "text": [
            "Access token obtained successfully.\n"
          ]
        }
      ],
      "source": [
        "import requests\n",
        "import base64\n",
        "\n",
        "# Replace with your own Client ID and Client Secret\n",
        "CLIENT_ID = 'XXXXXXXXXX' #put a client ID\n",
        "CLIENT_SECRET = 'YYYYYYYYYYYYYYYYY' #put client secret hiding for now\n",
        "\n",
        "# Base64 encode the client ID and client secret\n",
        "client_credentials = f\"{CLIENT_ID}:{CLIENT_SECRET}\"\n",
        "client_credentials_base64 = base64.b64encode(client_credentials.encode())\n",
        "\n",
        "# Request the access token\n",
        "token_url = 'https://accounts.spotify.com/api/token'\n",
        "headers = {\n",
        "    'Authorization': f'Basic {client_credentials_base64.decode()}'\n",
        "}\n",
        "data = {\n",
        "    'grant_type': 'client_credentials'\n",
        "}\n",
        "response = requests.post(token_url, data=data, headers=headers)\n",
        "\n",
        "if response.status_code == 200:\n",
        "    access_token = response.json()['access_token']\n",
        "    print(\"Access token obtained successfully.\")\n",
        "else:\n",
        "    print(\"Error obtaining access token.\")\n",
        "    exit()"
      ]
    },
    {
      "cell_type": "code",
      "source": [
        "#pip install spotipy"
      ],
      "metadata": {
        "colab": {
          "base_uri": "https://localhost:8080/"
        },
        "id": "KAN2mJHJhlc3",
        "outputId": "3b11ec87-9aef-4c96-df1d-f1c47b0a74fc"
      },
      "execution_count": 3,
      "outputs": [
        {
          "output_type": "stream",
          "name": "stdout",
          "text": [
            "Collecting spotipy\n",
            "  Downloading spotipy-2.23.0-py3-none-any.whl (29 kB)\n",
            "Collecting redis>=3.5.3 (from spotipy)\n",
            "  Downloading redis-5.0.1-py3-none-any.whl (250 kB)\n",
            "\u001b[?25l     \u001b[90m━━━━━━━━━━━━━━━━━━━━━━━━━━━━━━━━━━━━━━━━\u001b[0m \u001b[32m0.0/250.3 kB\u001b[0m \u001b[31m?\u001b[0m eta \u001b[36m-:--:--\u001b[0m\r\u001b[2K     \u001b[90m━━━━━━━━━━━━━━━━━━━━━━━━━━━━━━━━━━━━━━━━\u001b[0m \u001b[32m250.3/250.3 kB\u001b[0m \u001b[31m7.7 MB/s\u001b[0m eta \u001b[36m0:00:00\u001b[0m\n",
            "\u001b[?25hRequirement already satisfied: requests>=2.25.0 in /usr/local/lib/python3.10/dist-packages (from spotipy) (2.31.0)\n",
            "Requirement already satisfied: six>=1.15.0 in /usr/local/lib/python3.10/dist-packages (from spotipy) (1.16.0)\n",
            "Requirement already satisfied: urllib3>=1.26.0 in /usr/local/lib/python3.10/dist-packages (from spotipy) (2.0.7)\n",
            "Requirement already satisfied: async-timeout>=4.0.2 in /usr/local/lib/python3.10/dist-packages (from redis>=3.5.3->spotipy) (4.0.3)\n",
            "Requirement already satisfied: charset-normalizer<4,>=2 in /usr/local/lib/python3.10/dist-packages (from requests>=2.25.0->spotipy) (3.3.2)\n",
            "Requirement already satisfied: idna<4,>=2.5 in /usr/local/lib/python3.10/dist-packages (from requests>=2.25.0->spotipy) (3.6)\n",
            "Requirement already satisfied: certifi>=2017.4.17 in /usr/local/lib/python3.10/dist-packages (from requests>=2.25.0->spotipy) (2023.11.17)\n",
            "Installing collected packages: redis, spotipy\n",
            "Successfully installed redis-5.0.1 spotipy-2.23.0\n"
          ]
        }
      ]
    },
    {
      "cell_type": "code",
      "source": [
        "#get music data\n",
        "import pandas as pd\n",
        "import spotipy\n",
        "from spotipy.oauth2 import SpotifyOAuth\n",
        "\n",
        "def get_trending_playlist_data(playlist_id, access_token):\n",
        "    # Set up Spotipy with the access token\n",
        "    sp = spotipy.Spotify(auth=access_token)\n",
        "\n",
        "    # Get the tracks from the playlist\n",
        "    playlist_tracks = sp.playlist_tracks(playlist_id, fields='items(track(id, name, artists, album(id, name)))')\n",
        "\n",
        "    # Extract relevant information and store in a list of dictionaries\n",
        "    music_data = []\n",
        "    for track_info in playlist_tracks['items']:\n",
        "        track = track_info['track']\n",
        "        track_name = track['name']\n",
        "        artists = ', '.join([artist['name'] for artist in track['artists']])\n",
        "        album_name = track['album']['name']\n",
        "        album_id = track['album']['id']\n",
        "        track_id = track['id']\n",
        "\n",
        "        # Get audio features for the track\n",
        "        audio_features = sp.audio_features(track_id)[0] if track_id != 'Not available' else None\n",
        "\n",
        "        # Get release date of the album\n",
        "        try:\n",
        "            album_info = sp.album(album_id) if album_id != 'Not available' else None\n",
        "            release_date = album_info['release_date'] if album_info else None\n",
        "        except:\n",
        "            release_date = None\n",
        "\n",
        "        # Get popularity of the track\n",
        "        try:\n",
        "            track_info = sp.track(track_id) if track_id != 'Not available' else None\n",
        "            popularity = track_info['popularity'] if track_info else None\n",
        "        except:\n",
        "            popularity = None\n",
        "\n",
        "        # Add additional track information to the track data\n",
        "        track_data = {\n",
        "            'Track Name': track_name,\n",
        "            'Artists': artists,\n",
        "            'Album Name': album_name,\n",
        "            'Album ID': album_id,\n",
        "            'Track ID': track_id,\n",
        "            'Popularity': popularity,\n",
        "            'Release Date': release_date,\n",
        "            'Duration (ms)': audio_features['duration_ms'] if audio_features else None,\n",
        "            'Explicit': track_info.get('explicit', None),\n",
        "            'External URLs': track_info.get('external_urls', {}).get('spotify', None),\n",
        "            'Danceability': audio_features['danceability'] if audio_features else None,\n",
        "            'Energy': audio_features['energy'] if audio_features else None,\n",
        "            'Key': audio_features['key'] if audio_features else None,\n",
        "            'Loudness': audio_features['loudness'] if audio_features else None,\n",
        "            'Mode': audio_features['mode'] if audio_features else None,\n",
        "            'Speechiness': audio_features['speechiness'] if audio_features else None,\n",
        "            'Acousticness': audio_features['acousticness'] if audio_features else None,\n",
        "            'Instrumentalness': audio_features['instrumentalness'] if audio_features else None,\n",
        "            'Liveness': audio_features['liveness'] if audio_features else None,\n",
        "            'Valence': audio_features['valence'] if audio_features else None,\n",
        "            'Tempo': audio_features['tempo'] if audio_features else None,\n",
        "            # Add more attributes as needed\n",
        "        }\n",
        "\n",
        "        music_data.append(track_data)\n",
        "\n",
        "    # Create a pandas DataFrame from the list of dictionaries\n",
        "    df = pd.DataFrame(music_data)\n",
        "\n",
        "    return df"
      ],
      "metadata": {
        "id": "-HvZ-ZrVhftO"
      },
      "execution_count": 7,
      "outputs": []
    },
    {
      "cell_type": "code",
      "source": [
        "playlist_id = '2fmxVDpboTzLaLAfj5ZaQW'\n",
        "\n",
        "# Call the function to get the music data from the playlist and store it in a DataFrame\n",
        "music_df = get_trending_playlist_data(playlist_id, access_token)\n",
        "\n",
        "# Display the DataFram\n",
        "print(music_df)"
      ],
      "metadata": {
        "colab": {
          "base_uri": "https://localhost:8080/"
        },
        "id": "cSoLhUvqh7O5",
        "outputId": "dcfe3d9e-b3e0-4ce0-981e-0a57648ee6ce"
      },
      "execution_count": 9,
      "outputs": [
        {
          "output_type": "stream",
          "name": "stdout",
          "text": [
            "                        Track Name                                    Artists  \\\n",
            "0   Hall of Fame (feat. will.i.am)                      The Script, will.i.am   \n",
            "1                Whatever It Takes                            Imagine Dragons   \n",
            "2                       The Nights                                     Avicii   \n",
            "3        Unstoppable - R3HAB Remix                                 Sia, R3HAB   \n",
            "4                            Sleep                 ConKi, Rolipso, Runforrest   \n",
            "..                             ...                                        ...   \n",
            "94                         Thunder               Gabry Ponte, LUM!X, Prezioso   \n",
            "95              Stay for the Night  Gabriel Wittner, Slenderino, Chloé Hétier   \n",
            "96                   Kernkraft 400                                     GYMBRO   \n",
            "97                   What We Found                  DJSM, Hanno, Felix Samuel   \n",
            "98   Hypnotic Tango - Back to 2024                               My Mine, D4D   \n",
            "\n",
            "                       Album Name                Album ID  \\\n",
            "0               #3 Deluxe Version  7JOCOjZTcLysDMkZGWlcIj   \n",
            "1                          Evolve  33pt9HBdGlAbRGBHQgsZsU   \n",
            "2               The Days / Nights  0h2knr6qpiAq0tV5ri5JMF   \n",
            "3       Unstoppable (R3HAB Remix)  3qWCIK0fqmaaSTLoqoWsaz   \n",
            "4                           Sleep  49rPIZxBEwNFxZSdhcjiMr   \n",
            "..                            ...                     ...   \n",
            "94                        Thunder  35Q09Y0b7ZxOoCdF7sBiGf   \n",
            "95             Stay for the Night  1c4jpmRH096Pcee5lxTUMC   \n",
            "96                  Kernkraft 400  4ysx834hTZuHbl2ZtsGdTT   \n",
            "97                  What We Found  7rYGBAwBSE2LIcTH0mpPqx   \n",
            "98  Hypnotic Tango (Back to 2024)  3auRMPDTTyKfgke8VFN4GH   \n",
            "\n",
            "                  Track ID  Popularity Release Date  Duration (ms)  Explicit  \\\n",
            "0   7wMq5n8mYSKlQIGECKUgTX          84   2012-09-10         202533     False   \n",
            "1   6Qn5zhYkTa37e91HC1D7lb          85   2017-06-23         201240     False   \n",
            "2   0ct6r3EGTcMLPtrXHDvVjc          88   2014-01-01         176658     False   \n",
            "3   0F3v8p8ZnEGtZDxNcJ5Klq          74   2022-07-08         162353     False   \n",
            "4   0rMuFOja3DhVSuXQeae25C          68   2023-06-01         178236     False   \n",
            "..                     ...         ...          ...            ...       ...   \n",
            "94  2USlegnFJLrVLpoVfPimKB          81   2021-05-07         160000     False   \n",
            "95  4TUdx6FB7OMWkEF3AaziTT          42   2022-03-31         158095     False   \n",
            "96  0aoeXzMxq1945xRbWHirrO          71   2023-07-12         126915     False   \n",
            "97  7zyIeme5grGkInU0nizU0i          51   2024-01-19         188160     False   \n",
            "98  4pp2su4kculYJMm8xPdp2z          32   2024-01-26         212147     False   \n",
            "\n",
            "                                        External URLs  ...  Energy  Key  \\\n",
            "0   https://open.spotify.com/track/7wMq5n8mYSKlQIG...  ...   0.873   10   \n",
            "1   https://open.spotify.com/track/6Qn5zhYkTa37e91...  ...   0.655   10   \n",
            "2   https://open.spotify.com/track/0ct6r3EGTcMLPtr...  ...   0.835    6   \n",
            "3   https://open.spotify.com/track/0F3v8p8ZnEGtZDx...  ...   0.744    6   \n",
            "4   https://open.spotify.com/track/0rMuFOja3DhVSuX...  ...   0.815    7   \n",
            "..                                                ...  ...     ...  ...   \n",
            "94  https://open.spotify.com/track/2USlegnFJLrVLpo...  ...   0.896    1   \n",
            "95  https://open.spotify.com/track/4TUdx6FB7OMWkEF...  ...   0.820    9   \n",
            "96  https://open.spotify.com/track/0aoeXzMxq1945xR...  ...   0.950    4   \n",
            "97  https://open.spotify.com/track/7zyIeme5grGkInU...  ...   0.843   10   \n",
            "98  https://open.spotify.com/track/4pp2su4kculYJMm...  ...   0.706    5   \n",
            "\n",
            "    Loudness  Mode  Speechiness  Acousticness  Instrumentalness  Liveness  \\\n",
            "0     -4.343     1       0.0564       0.06540          0.000000    0.1230   \n",
            "1     -5.021     0       0.0311       0.03620          0.000000    0.1170   \n",
            "2     -5.298     1       0.0433       0.01660          0.000000    0.2490   \n",
            "3     -4.058     0       0.2340       0.49500          0.000023    0.0631   \n",
            "4     -6.501     0       0.0334       0.00246          0.000435    0.0940   \n",
            "..       ...   ...          ...           ...               ...       ...   \n",
            "94    -4.673     1       0.0580       0.03420          0.000032    0.3440   \n",
            "95    -6.433     1       0.1080       0.16800          0.000002    0.5990   \n",
            "96    -6.706     1       0.0823       0.00690          0.843000    0.4080   \n",
            "97    -6.278     1       0.0463       0.06940          0.000000    0.1010   \n",
            "98    -6.714     0       0.0403       0.18000          0.053900    0.2100   \n",
            "\n",
            "    Valence    Tempo  \n",
            "0    0.6290   84.786  \n",
            "1    0.5560  134.945  \n",
            "2    0.6540  125.983  \n",
            "3    0.4330  101.987  \n",
            "4    0.2040  132.032  \n",
            "..      ...      ...  \n",
            "94   0.4030  101.216  \n",
            "95   0.1580  126.047  \n",
            "96   0.0394  140.057  \n",
            "97   0.4660  126.043  \n",
            "98   0.5330  117.020  \n",
            "\n",
            "[99 rows x 21 columns]\n"
          ]
        }
      ]
    },
    {
      "cell_type": "code",
      "source": [
        "#now recommendation model\n",
        "import pandas as pd\n",
        "import numpy as np\n",
        "from sklearn.model_selection import train_test_split\n",
        "from sklearn.preprocessing import MinMaxScaler\n",
        "from datetime import datetime\n",
        "from sklearn.metrics.pairwise import cosine_similarity\n",
        "\n",
        "data = music_df #has all music data\n",
        "#to recommend the latest releases, we need to give more weight to the latest releases\n",
        "# Function to calculate weighted popularity scores based on release date\n",
        "def calculate_weighted_popularity(release_date):\n",
        "    # Convert the release date to datetime object\n",
        "    release_date = datetime.strptime(release_date, '%Y-%m-%d')\n",
        "\n",
        "    # Calculate the time span between release date and today's date\n",
        "    time_span = datetime.now() - release_date\n",
        "\n",
        "    # Calculate the weighted popularity score based on time span (e.g., more recent releases have higher weight)\n",
        "    weight = 1 / (time_span.days + 1)\n",
        "    return weight\n",
        "\n",
        "# Normalize the music features using Min-Max scaling\n",
        "scaler = MinMaxScaler()\n",
        "music_features = music_df[['Danceability', 'Energy', 'Key',\n",
        "                           'Loudness', 'Mode', 'Speechiness', 'Acousticness',\n",
        "                           'Instrumentalness', 'Liveness', 'Valence', 'Tempo']].values\n",
        "music_features_scaled = scaler.fit_transform(music_features)\n",
        "\n",
        "#Now using 2 approaches\n",
        "#first approach will be based on recommending music based on music audio features,\n",
        "#and the second approach will be based on recommending music based on weighted popularity.\n",
        "\n",
        "# a function to get content-based recommendations based on music features\n",
        "def content_based_recommendations(input_song_name, num_recommendations=5):\n",
        "    if input_song_name not in music_df['Track Name'].values:\n",
        "        print(f\"'{input_song_name}' not found in the dataset. Please enter a valid song name.\")\n",
        "        return\n",
        "\n",
        "    # Get the index of the input song in the music DataFrame\n",
        "    input_song_index = music_df[music_df['Track Name'] == input_song_name].index[0]\n",
        "\n",
        "    # Calculate the similarity scores based on music features (cosine similarity)\n",
        "    similarity_scores = cosine_similarity([music_features_scaled[input_song_index]], music_features_scaled)\n",
        "\n",
        "    # Get the indices of the most similar songs\n",
        "    similar_song_indices = similarity_scores.argsort()[0][::-1][1:num_recommendations + 1]\n",
        "\n",
        "    # Get the names of the most similar songs based on content-based filtering\n",
        "    content_based_recommendations = music_df.iloc[similar_song_indices][['Track Name', 'Artists', 'Album Name', 'Release Date', 'Popularity']]\n",
        "\n",
        "    return content_based_recommendations\n",
        "\n",
        "# a function to get hybrid recommendations based on weighted popularity\n",
        "def hybrid_recommendations(input_song_name, num_recommendations=5, alpha=0.5):\n",
        "    if input_song_name not in music_df['Track Name'].values:\n",
        "        print(f\"'{input_song_name}' not found in the dataset. Please enter a valid song name.\")\n",
        "        return\n",
        "\n",
        "    # Get content-based recommendations\n",
        "    content_based_rec = content_based_recommendations(input_song_name, num_recommendations)\n",
        "\n",
        "    # Get the popularity score of the input song\n",
        "    popularity_score = music_df.loc[music_df['Track Name'] == input_song_name, 'Popularity'].values[0]\n",
        "\n",
        "    # Calculate the weighted popularity score\n",
        "    weighted_popularity_score = popularity_score * calculate_weighted_popularity(music_df.loc[music_df['Track Name'] == input_song_name, 'Release Date'].values[0])\n",
        "\n",
        "    # Combine content-based and popularity-based recommendations based on weighted popularity\n",
        "    hybrid_recommendations = content_based_rec\n",
        "    hybrid_recommendations = hybrid_recommendations.append({\n",
        "        'Track Name': input_song_name,\n",
        "        'Artists': music_df.loc[music_df['Track Name'] == input_song_name, 'Artists'].values[0],\n",
        "        'Album Name': music_df.loc[music_df['Track Name'] == input_song_name, 'Album Name'].values[0],\n",
        "        'Release Date': music_df.loc[music_df['Track Name'] == input_song_name, 'Release Date'].values[0],\n",
        "        'Popularity': weighted_popularity_score\n",
        "    }, ignore_index=True)\n",
        "\n",
        "    # Sort the hybrid recommendations based on weighted popularity score\n",
        "    hybrid_recommendations = hybrid_recommendations.sort_values(by='Popularity', ascending=False)\n",
        "\n",
        "    # Remove the input song from the recommendations\n",
        "    hybrid_recommendations = hybrid_recommendations[hybrid_recommendations['Track Name'] != input_song_name]\n",
        "\n",
        "\n",
        "    return hybrid_recommendations\n",
        "\n",
        "#select one song from music_df\n",
        "input_song = \"Hall of Fame (feat. will.i.am)\"\n",
        "recommendations = hybrid_recommendations(input_song, num_recommendations=5)\n",
        "print(f\"Recommended songs for '{input_song}':\")\n",
        "print(recommendations)"
      ],
      "metadata": {
        "colab": {
          "base_uri": "https://localhost:8080/"
        },
        "id": "_UAU_InZixiy",
        "outputId": "548ccc55-48c9-431a-bd15-6571f6f57f32"
      },
      "execution_count": 12,
      "outputs": [
        {
          "output_type": "stream",
          "name": "stdout",
          "text": [
            "Recommended songs for 'Hall of Fame (feat. will.i.am)':\n",
            "                 Track Name                       Artists  \\\n",
            "2                The Nights                        Avicii   \n",
            "4  Makeba - Ian Asher Remix               Jain, Ian Asher   \n",
            "0           Always Remember        jeonghyeon, Able Faces   \n",
            "3                     Shine  Brendan Mills, Jordan Morris   \n",
            "1             What We Found     DJSM, Hanno, Felix Samuel   \n",
            "\n",
            "                 Album Name Release Date  Popularity  \n",
            "2         The Days / Nights   2014-01-01        88.0  \n",
            "4  Makeba (Ian Asher Remix)   2023-01-13        78.0  \n",
            "0           Always Remember   2023-10-12        56.0  \n",
            "3                     Shine   2023-11-30        55.0  \n",
            "1             What We Found   2024-01-19        51.0  \n"
          ]
        },
        {
          "output_type": "stream",
          "name": "stderr",
          "text": [
            "<ipython-input-12-4588dc4711fc>:71: FutureWarning: The frame.append method is deprecated and will be removed from pandas in a future version. Use pandas.concat instead.\n",
            "  hybrid_recommendations = hybrid_recommendations.append({\n"
          ]
        }
      ]
    },
    {
      "cell_type": "code",
      "source": [],
      "metadata": {
        "id": "YmnCFWlmjRBG"
      },
      "execution_count": null,
      "outputs": []
    }
  ]
}